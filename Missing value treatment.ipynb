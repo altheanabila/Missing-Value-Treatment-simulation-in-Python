{
 "cells": [
  {
   "cell_type": "code",
   "execution_count": 3,
   "metadata": {},
   "outputs": [],
   "source": [
    "import numpy as np\n",
    "import pandas as pd"
   ]
  },
  {
   "cell_type": "code",
   "execution_count": 4,
   "metadata": {},
   "outputs": [],
   "source": [
    "df = pd.read_excel('mvt.xlsx', header = 0)"
   ]
  },
  {
   "cell_type": "code",
   "execution_count": 5,
   "metadata": {},
   "outputs": [
    {
     "data": {
      "text/html": [
       "<div>\n",
       "<style scoped>\n",
       "    .dataframe tbody tr th:only-of-type {\n",
       "        vertical-align: middle;\n",
       "    }\n",
       "\n",
       "    .dataframe tbody tr th {\n",
       "        vertical-align: top;\n",
       "    }\n",
       "\n",
       "    .dataframe thead th {\n",
       "        text-align: right;\n",
       "    }\n",
       "</style>\n",
       "<table border=\"1\" class=\"dataframe\">\n",
       "  <thead>\n",
       "    <tr style=\"text-align: right;\">\n",
       "      <th></th>\n",
       "      <th>date</th>\n",
       "      <th>Greenhouse gas emissions</th>\n",
       "      <th>Coal consumption</th>\n",
       "      <th>Fossil fuel consumption</th>\n",
       "    </tr>\n",
       "  </thead>\n",
       "  <tbody>\n",
       "    <tr>\n",
       "      <th>0</th>\n",
       "      <td>1960-12-31</td>\n",
       "      <td>NaN</td>\n",
       "      <td>87.0288</td>\n",
       "      <td>99.0202</td>\n",
       "    </tr>\n",
       "    <tr>\n",
       "      <th>1</th>\n",
       "      <td>1961-12-31</td>\n",
       "      <td>NaN</td>\n",
       "      <td>86.7258</td>\n",
       "      <td>99.0410</td>\n",
       "    </tr>\n",
       "    <tr>\n",
       "      <th>2</th>\n",
       "      <td>1962-12-31</td>\n",
       "      <td>NaN</td>\n",
       "      <td>86.9091</td>\n",
       "      <td>99.1927</td>\n",
       "    </tr>\n",
       "    <tr>\n",
       "      <th>3</th>\n",
       "      <td>1963-12-31</td>\n",
       "      <td>NaN</td>\n",
       "      <td>85.7424</td>\n",
       "      <td>99.3022</td>\n",
       "    </tr>\n",
       "    <tr>\n",
       "      <th>4</th>\n",
       "      <td>1964-12-31</td>\n",
       "      <td>NaN</td>\n",
       "      <td>84.4488</td>\n",
       "      <td>99.3976</td>\n",
       "    </tr>\n",
       "  </tbody>\n",
       "</table>\n",
       "</div>"
      ],
      "text/plain": [
       "         date  Greenhouse gas emissions  Coal consumption  \\\n",
       "0  1960-12-31                       NaN           87.0288   \n",
       "1  1961-12-31                       NaN           86.7258   \n",
       "2  1962-12-31                       NaN           86.9091   \n",
       "3  1963-12-31                       NaN           85.7424   \n",
       "4  1964-12-31                       NaN           84.4488   \n",
       "\n",
       "   Fossil fuel consumption  \n",
       "0                  99.0202  \n",
       "1                  99.0410  \n",
       "2                  99.1927  \n",
       "3                  99.3022  \n",
       "4                  99.3976  "
      ]
     },
     "execution_count": 5,
     "metadata": {},
     "output_type": "execute_result"
    }
   ],
   "source": [
    "df.head()"
   ]
  },
  {
   "cell_type": "code",
   "execution_count": 6,
   "metadata": {},
   "outputs": [
    {
     "name": "stdout",
     "output_type": "stream",
     "text": [
      "<class 'pandas.core.frame.DataFrame'>\n",
      "RangeIndex: 56 entries, 0 to 55\n",
      "Data columns (total 4 columns):\n",
      " #   Column                    Non-Null Count  Dtype  \n",
      "---  ------                    --------------  -----  \n",
      " 0   date                      56 non-null     object \n",
      " 1   Greenhouse gas emissions  43 non-null     float64\n",
      " 2   Coal consumption          56 non-null     float64\n",
      " 3   Fossil fuel consumption   56 non-null     float64\n",
      "dtypes: float64(3), object(1)\n",
      "memory usage: 1.9+ KB\n"
     ]
    }
   ],
   "source": [
    "df.info()"
   ]
  },
  {
   "cell_type": "code",
   "execution_count": 8,
   "metadata": {},
   "outputs": [
    {
     "data": {
      "text/plain": [
       "1173506.3655697675"
      ]
     },
     "execution_count": 8,
     "metadata": {},
     "output_type": "execute_result"
    }
   ],
   "source": [
    "df['Greenhouse gas emissions'].mean()"
   ]
  },
  {
   "cell_type": "code",
   "execution_count": 13,
   "metadata": {},
   "outputs": [],
   "source": [
    "df['Greenhouse gas emissions'].fillna(value = df['Greenhouse gas emissions'].mean(), inplace=True)\n"
   ]
  },
  {
   "cell_type": "code",
   "execution_count": 14,
   "metadata": {},
   "outputs": [
    {
     "data": {
      "text/plain": [
       "<bound method DataFrame.info of                    date  Greenhouse gas emissions  Coal consumption  \\\n",
       "0            1960-12-31              1.173506e+06           87.0288   \n",
       "1            1961-12-31              1.173506e+06           86.7258   \n",
       "2            1962-12-31              1.173506e+06           86.9091   \n",
       "3            1963-12-31              1.173506e+06           85.7424   \n",
       "4            1964-12-31              1.173506e+06           84.4488   \n",
       "5            1965-12-31              1.173506e+06           80.1826   \n",
       "6            1966-12-31              1.173506e+06           76.8512   \n",
       "7            1967-12-31              1.173506e+06           77.0900   \n",
       "8            1968-12-31              1.173506e+06           76.2458   \n",
       "9            1969-12-31              1.173506e+06           74.7271   \n",
       "10           1970-12-31              1.286570e+06           74.4636   \n",
       "11           1971-12-31              1.283784e+06           74.9894   \n",
       "12           1972-12-31              1.300781e+06           72.3798   \n",
       "13           1973-12-31              1.364682e+06           69.0035   \n",
       "14           1974-12-31              1.336034e+06           67.2084   \n",
       "15           1975-12-31              1.273610e+06           63.2746   \n",
       "16           1976-12-31              1.336497e+06           66.0828   \n",
       "17           1977-12-31              1.315705e+06           63.6533   \n",
       "18           1978-12-31              1.357268e+06           62.6458   \n",
       "19           1979-12-31              1.411701e+06           61.9428   \n",
       "20           1980-12-31              1.354783e+06           62.9399   \n",
       "21           1981-12-31              1.317792e+06           65.1161   \n",
       "22           1982-12-31              1.267150e+06           66.2068   \n",
       "23           1983-12-31              1.268456e+06           67.6626   \n",
       "24           1984-12-31              1.291692e+06           65.3232   \n",
       "25           1985-12-31              1.301253e+06           61.9375   \n",
       "26           1986-12-31              1.302265e+06           62.2620   \n",
       "27           1987-12-31              1.306982e+06           59.8791   \n",
       "28           1988-12-31              1.294254e+06           58.6267   \n",
       "29           1989-12-31              1.278982e+06           58.0613   \n",
       "30           1990-12-31              1.256074e+06           58.7311   \n",
       "31           1991-12-31              1.219017e+06           59.1461   \n",
       "32           1992-12-31              1.158796e+06           57.1244   \n",
       "33           1993-12-31              1.147631e+06           57.3785   \n",
       "34           1994-12-31              1.135938e+06           56.5280   \n",
       "35           1995-12-31              1.131719e+06           55.6226   \n",
       "36           1996-12-31              1.153138e+06           54.9606   \n",
       "37           1997-12-31              1.122917e+06           53.3586   \n",
       "38           1998-12-31              1.060398e+06           54.1199   \n",
       "39           1999-12-31              1.020391e+06           52.1545   \n",
       "40           2000-12-31              1.016296e+06           53.1461   \n",
       "41           2001-12-31              1.025984e+06           51.8395   \n",
       "42           2002-12-31              1.007405e+06           52.6834   \n",
       "43           2003-12-31              1.017486e+06           52.0842   \n",
       "44           2004-12-31              1.016629e+06           50.4296   \n",
       "45           2005-12-31              9.812877e+05           48.3459   \n",
       "46           2006-12-31              9.946860e+05           47.1639   \n",
       "47           2007-12-31              9.728962e+05           48.6524   \n",
       "48           2008-12-31              9.921163e+05           44.9948   \n",
       "49           2009-12-31              9.504634e+05           44.1136   \n",
       "50           2010-12-31              9.480068e+05           43.6424   \n",
       "51           2011-12-31              9.295403e+05           44.8563   \n",
       "52           2012-12-31              9.517167e+05           46.0165   \n",
       "53  2013-12-31 00:00:00              1.173506e+06           47.2412   \n",
       "54  2014-12-31 00:00:00              1.173506e+06           45.8102   \n",
       "55  2015-12-31 00:00:00              1.173506e+06           44.2628   \n",
       "\n",
       "    Fossil fuel consumption  \n",
       "0                   99.0202  \n",
       "1                   99.0410  \n",
       "2                   99.1927  \n",
       "3                   99.3022  \n",
       "4                   99.3976  \n",
       "5                   99.1023  \n",
       "6                   98.8661  \n",
       "7                   98.7712  \n",
       "8                   98.7822  \n",
       "9                   98.6385  \n",
       "10                  97.8670  \n",
       "11                  98.0589  \n",
       "12                  97.6536  \n",
       "13                  97.6214  \n",
       "14                  97.1827  \n",
       "15                  96.2298  \n",
       "16                  96.3300  \n",
       "17                  95.2001  \n",
       "18                  95.1884  \n",
       "19                  94.8335  \n",
       "20                  94.0921  \n",
       "21                  92.9745  \n",
       "22                  91.9699  \n",
       "23                  91.6533  \n",
       "24                  90.0646  \n",
       "25                  87.9252  \n",
       "26                  88.6536  \n",
       "27                  87.9054  \n",
       "28                  86.9101  \n",
       "29                  86.4512  \n",
       "30                  86.8379  \n",
       "31                  87.0964  \n",
       "32                  85.9528  \n",
       "33                  86.0093  \n",
       "34                  86.0218  \n",
       "35                  85.8110  \n",
       "36                  85.9087  \n",
       "37                  84.6295  \n",
       "38                  84.9225  \n",
       "39                  83.9314  \n",
       "40                  83.6220  \n",
       "41                  83.6050  \n",
       "42                  83.2782  \n",
       "43                  83.1823  \n",
       "44                  82.5660  \n",
       "45                  81.8557  \n",
       "46                  81.2719  \n",
       "47                  81.2720  \n",
       "48                  80.8023  \n",
       "49                  79.9675  \n",
       "50                  79.5604  \n",
       "51                  80.3702  \n",
       "52                  80.6252  \n",
       "53                  81.0883  \n",
       "54                  79.7105  \n",
       "55                  78.8626  >"
      ]
     },
     "execution_count": 14,
     "metadata": {},
     "output_type": "execute_result"
    }
   ],
   "source": [
    "df.info"
   ]
  },
  {
   "cell_type": "code",
   "execution_count": 15,
   "metadata": {},
   "outputs": [
    {
     "name": "stdout",
     "output_type": "stream",
     "text": [
      "<class 'pandas.core.frame.DataFrame'>\n",
      "RangeIndex: 56 entries, 0 to 55\n",
      "Data columns (total 4 columns):\n",
      " #   Column                    Non-Null Count  Dtype  \n",
      "---  ------                    --------------  -----  \n",
      " 0   date                      56 non-null     object \n",
      " 1   Greenhouse gas emissions  56 non-null     float64\n",
      " 2   Coal consumption          56 non-null     float64\n",
      " 3   Fossil fuel consumption   56 non-null     float64\n",
      "dtypes: float64(3), object(1)\n",
      "memory usage: 1.9+ KB\n"
     ]
    }
   ],
   "source": [
    "df.info()"
   ]
  },
  {
   "cell_type": "code",
   "execution_count": null,
   "metadata": {},
   "outputs": [],
   "source": []
  }
 ],
 "metadata": {
  "kernelspec": {
   "display_name": "Python 3",
   "language": "python",
   "name": "python3"
  },
  "language_info": {
   "codemirror_mode": {
    "name": "ipython",
    "version": 3
   },
   "file_extension": ".py",
   "mimetype": "text/x-python",
   "name": "python",
   "nbconvert_exporter": "python",
   "pygments_lexer": "ipython3",
   "version": "3.8.3"
  }
 },
 "nbformat": 4,
 "nbformat_minor": 4
}
